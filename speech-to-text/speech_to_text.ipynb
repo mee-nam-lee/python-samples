{
 "cells": [
  {
   "cell_type": "code",
   "execution_count": null,
   "metadata": {
    "colab": {
     "base_uri": "https://localhost:8080/",
     "height": 498
    },
    "executionInfo": {
     "elapsed": 16018,
     "status": "ok",
     "timestamp": 1711344554051,
     "user": {
      "displayName": "",
      "userId": ""
     },
     "user_tz": -540
    },
    "id": "ePE4zlkbFGAK",
    "outputId": "4e2b1b88-14b5-46d4-adaf-f650582f8f9c"
   },
   "outputs": [],
   "source": [
    "!pip3 install google-cloud-speech google-cloud google-cloud-texttospeech langdetect \n",
    "!pip3 install google-cloud-translate"
   ]
  },
  {
   "cell_type": "code",
   "execution_count": 21,
   "metadata": {
    "executionInfo": {
     "elapsed": 4,
     "status": "ok",
     "timestamp": 1711344567080,
     "user": {
      "displayName": "",
      "userId": ""
     },
     "user_tz": -540
    },
    "id": "jsQX-9UwDXtH"
   },
   "outputs": [],
   "source": [
    "BUCKET_NAME = \"mnlee-stt\" # @param {type:\"string\"}"
   ]
  },
  {
   "cell_type": "code",
   "execution_count": 31,
   "metadata": {},
   "outputs": [],
   "source": [
    "def synthesize_text(lang_code, text, audio_name):\n",
    "    \"\"\"Synthesizes speech from the input string of text.\"\"\"\n",
    "    from google.cloud import texttospeech\n",
    "\n",
    "    client = texttospeech.TextToSpeechClient()\n",
    "\n",
    "    input_text = texttospeech.SynthesisInput(text=text)\n",
    "\n",
    "    # Note: the voice can also be specified by name.\n",
    "    # Names of voices can be retrieved with client.list_voices().\n",
    "    voice = texttospeech.VoiceSelectionParams(\n",
    "        language_code=lang_code,\n",
    "        #name=\"en-US-Standard-C\",\n",
    "        ssml_gender=texttospeech.SsmlVoiceGender.FEMALE,\n",
    "    )\n",
    "\n",
    "    audio_config = texttospeech.AudioConfig(\n",
    "        audio_encoding=texttospeech.AudioEncoding.LINEAR16\n",
    "    )\n",
    "\n",
    "    response = client.synthesize_speech(\n",
    "        request={\"input\": input_text, \"voice\": voice, \"audio_config\": audio_config}\n",
    "    )\n",
    "\n",
    "    # The response's audio_content is binary.\n",
    "    with open(f\"{audio_name}.wav\", \"wb\") as out:\n",
    "        out.write(response.audio_content)\n",
    "        print(f\"Audio content written to file {audio_name}.wav\")"
   ]
  },
  {
   "cell_type": "code",
   "execution_count": 138,
   "metadata": {},
   "outputs": [
    {
     "name": "stdout",
     "output_type": "stream",
     "text": [
      "Audio content written to file en-US.wav\n"
     ]
    }
   ],
   "source": [
    "synthesize_text(\"en-US\",\"Hello. This is a sentence to test multilingual language detection.\", \"en-US\")"
   ]
  },
  {
   "cell_type": "code",
   "execution_count": 5,
   "metadata": {},
   "outputs": [
    {
     "name": "stdout",
     "output_type": "stream",
     "text": [
      "Audio content written to file es-ES.wav\n"
     ]
    }
   ],
   "source": [
    "synthesize_text(\"es-ES\",\"Hola. Esta es una oración para probar la detección de lenguaje multilingüe.\", \"es-ES\")"
   ]
  },
  {
   "cell_type": "code",
   "execution_count": 6,
   "metadata": {},
   "outputs": [
    {
     "name": "stdout",
     "output_type": "stream",
     "text": [
      "Audio content written to file fr-FR.wav\n"
     ]
    }
   ],
   "source": [
    "synthesize_text(\"fr-FR\",\"Bonjour. Ceci est une phrase pour tester la détection de langue multilingue.\", \"fr-FR\")"
   ]
  },
  {
   "cell_type": "code",
   "execution_count": 7,
   "metadata": {},
   "outputs": [
    {
     "name": "stdout",
     "output_type": "stream",
     "text": [
      "Audio content written to file de-DE.wav\n"
     ]
    }
   ],
   "source": [
    "synthesize_text(\"de-DE\",\"Hallo. Dies ist ein Satz, um die mehrsprachige Spracherkennung zu testen.\", \"de-DE\")"
   ]
  },
  {
   "cell_type": "code",
   "execution_count": 8,
   "metadata": {},
   "outputs": [
    {
     "name": "stdout",
     "output_type": "stream",
     "text": [
      "Audio content written to file pt-PT.wav\n"
     ]
    }
   ],
   "source": [
    "synthesize_text(\"pt-PT\",\"Olá. Esta é uma frase para testar a detecção de idioma multilíngue.\", \"pt-PT\")"
   ]
  },
  {
   "cell_type": "code",
   "execution_count": 9,
   "metadata": {},
   "outputs": [
    {
     "name": "stdout",
     "output_type": "stream",
     "text": [
      "Audio content written to file cmn-CN.wav\n"
     ]
    }
   ],
   "source": [
    "synthesize_text(\"cmn-CN\",\"你好。这是一句用于测试多语言语言检测的句子。\", \"cmn-CN\")"
   ]
  },
  {
   "cell_type": "code",
   "execution_count": 10,
   "metadata": {},
   "outputs": [
    {
     "name": "stdout",
     "output_type": "stream",
     "text": [
      "Audio content written to file ja-JP.wav\n"
     ]
    }
   ],
   "source": [
    "synthesize_text(\"ja-JP\",\"こんにちは。これは多言語言語検出をテストするための文です。\", \"ja-JP\")"
   ]
  },
  {
   "cell_type": "code",
   "execution_count": 11,
   "metadata": {},
   "outputs": [
    {
     "name": "stdout",
     "output_type": "stream",
     "text": [
      "Audio content written to file ko-KR.wav\n"
     ]
    }
   ],
   "source": [
    "synthesize_text(\"ko-KR\",\"안녕하세요. 다국어 언어 감지를 테스트하기 위한 문장입니다.\", \"ko-KR\")"
   ]
  },
  {
   "cell_type": "code",
   "execution_count": 41,
   "metadata": {},
   "outputs": [
    {
     "name": "stdout",
     "output_type": "stream",
     "text": [
      "Audio content written to file ko-en-word.wav\n"
     ]
    }
   ],
   "source": [
    "synthesize_text(\"ko-KR\",\"hello good morning. 영한 혼합 문장입니다\", \"ko-en-word\")"
   ]
  },
  {
   "cell_type": "code",
   "execution_count": 12,
   "metadata": {},
   "outputs": [
    {
     "name": "stdout",
     "output_type": "stream",
     "text": [
      "Audio content written to file ar-AE.wav\n"
     ]
    }
   ],
   "source": [
    "synthesize_text(\"ar-AE\",\"مرحبًا. هذه جملة لاختبار اكتشاف اللغة متعددة اللغات.\", \"ar-AE\")"
   ]
  },
  {
   "cell_type": "code",
   "execution_count": 60,
   "metadata": {},
   "outputs": [
    {
     "name": "stdout",
     "output_type": "stream",
     "text": [
      "Audio content written to file hi-IN.wav\n"
     ]
    }
   ],
   "source": [
    "synthesize_text(\"hi-IN\",\"नमस्ते। यह बहुभाषी भाषा पहचान का परीक्षण करने के लिए एक वाक्य है.\", \"hi-IN\")"
   ]
  },
  {
   "cell_type": "code",
   "execution_count": 140,
   "metadata": {},
   "outputs": [
    {
     "name": "stderr",
     "output_type": "stream",
     "text": [
      "43583.55s - pydevd: Sending message related to process being replaced timed-out after 5 seconds\n"
     ]
    },
    {
     "name": "stdout",
     "output_type": "stream",
     "text": [
      "Copying file://en-es-word.wav [Content-Type=audio/x-wav]...\n",
      "- [1 files][ 96.1 KiB/ 96.1 KiB]                                                \n",
      "Operation completed over 1 objects/96.1 KiB.                                     \n"
     ]
    }
   ],
   "source": [
    "!gsutil cp en-es-word.wav gs://mnlee-stt/robot/wav/"
   ]
  },
  {
   "cell_type": "code",
   "execution_count": 151,
   "metadata": {},
   "outputs": [],
   "source": [
    "def detect_language(text: str) -> dict:\n",
    "    \"\"\"Detects the text's language.\"\"\"\n",
    "    from google.cloud import translate_v2 as translate\n",
    "\n",
    "    translate_client = translate.Client()\n",
    "\n",
    "    # Text can also be a sequence of strings, in which case this method\n",
    "    # will return a sequence of results for each text.\n",
    "    result = translate_client.detect_language(text)\n",
    "\n",
    "    #print(f\"Text: {text}\")\n",
    "    #print(\"Confidence: {}\".format(result[\"confidence\"]))\n",
    "    #print(\"Language: {}\".format(result[\"language\"]))\n",
    "\n",
    "    return result[\"language\"]"
   ]
  },
  {
   "cell_type": "code",
   "execution_count": 159,
   "metadata": {
    "executionInfo": {
     "elapsed": 3,
     "status": "ok",
     "timestamp": 1711344573267,
     "user": {
      "displayName": "",
      "userId": ""
     },
     "user_tz": -540
    },
    "id": "ZfIJ_JFVDWOT"
   },
   "outputs": [],
   "source": [
    "from google.cloud import speech_v1p1beta1 as speech\n",
    "from langdetect import detect\n",
    "#from google.cloud import speech_v2 as speech\n",
    "\n",
    "#def stt(wav_uri) -> speech.RecognizeResponse:\n",
    "def stt(lang_code, rate, model=None):\n",
    "    # Instantiates a client\n",
    "    client = speech.SpeechClient()\n",
    "    audio_uri = f\"gs://{BUCKET_NAME}/robot/wav/{lang_code}.wav\"\n",
    "    audio = speech.RecognitionAudio(uri=audio_uri)\n",
    "\n",
    "    config = speech.RecognitionConfig(\n",
    "        encoding=speech.RecognitionConfig.AudioEncoding.LINEAR16,\n",
    "        language_code=\"en-US\",\n",
    "        #sample_rate_hertz=24000,\n",
    "        sample_rate_hertz=rate,\n",
    "        #alternative_language_codes=[\"es-ES\",\"fr-FR\",\"de-DE\",\"pt-PT\",\"cmn-CN\",\"ja-JP\",\"ko-KR\", \"ar-AE\", \"hi-IN\"]\n",
    "        alternative_language_codes=[\"es-ES\",\"fr-FR\",\"de-DE\",\"pt-PT\",\"cmn-CN\",\"ko-KR\"],\n",
    "        max_alternatives=1,\n",
    "        enable_spoken_punctuation=True,\n",
    "        model=model\n",
    "    )\n",
    "\n",
    "    # Detects speech in the audio file\n",
    "    response = client.recognize(config=config, audio=audio)\n",
    "    #print(response)\n",
    "    for result in response.results:\n",
    "        for alternative in result.alternatives:\n",
    "            print(\"Transcript: {}\".format(alternative.transcript))    \n",
    "            print(\"Detected [lang code]]: {}\".format(detect(alternative.transcript)))\n",
    "            print(\"Translation API [lang code]: {}\".format(detect_language(alternative.transcript)))\n",
    "        print(\"STT [lang code]: {}\".format(result.language_code))\n",
    "        \n",
    "          \n",
    "    #return response"
   ]
  },
  {
   "cell_type": "code",
   "execution_count": 139,
   "metadata": {
    "colab": {
     "base_uri": "https://localhost:8080/",
     "height": 842
    },
    "executionInfo": {
     "elapsed": 1141,
     "status": "error",
     "timestamp": 1711344621206,
     "user": {
      "displayName": "",
      "userId": ""
     },
     "user_tz": -540
    },
    "id": "QtMi26nSFg-5",
    "outputId": "6f2515a6-a392-4cca-bcb1-a01d9c17c214"
   },
   "outputs": [
    {
     "name": "stdout",
     "output_type": "stream",
     "text": [
      "Transcript: hello this is a sentence to test multilingual language detection\n",
      "Detected [lang code]]: en\n",
      "STT [lang code]: en-us\n"
     ]
    }
   ],
   "source": [
    "stt(\"en-US\", 24000, \"latest_short\")"
   ]
  },
  {
   "cell_type": "code",
   "execution_count": 79,
   "metadata": {},
   "outputs": [
    {
     "name": "stdout",
     "output_type": "stream",
     "text": [
      "Transcript: hola esta es una oración para aprobar la detección de lenguaje multilingüe\n",
      "lang code: es-es\n"
     ]
    }
   ],
   "source": [
    "stt(\"es-ES\",24000, \"latest_short\")"
   ]
  },
  {
   "cell_type": "code",
   "execution_count": 80,
   "metadata": {},
   "outputs": [
    {
     "name": "stdout",
     "output_type": "stream",
     "text": [
      "Transcript: bonjour ceci est une phrase pour tester la détection de langue multilingue\n",
      "lang code: fr-fr\n"
     ]
    }
   ],
   "source": [
    "stt(\"fr-FR\",24000, \"latest_short\")"
   ]
  },
  {
   "cell_type": "code",
   "execution_count": 81,
   "metadata": {},
   "outputs": [
    {
     "name": "stdout",
     "output_type": "stream",
     "text": [
      "Transcript: hallo dies ist ein Satz um die mehrsprachige Spracherkennung zu testen\n",
      "lang code: de-de\n"
     ]
    }
   ],
   "source": [
    "stt(\"de-DE\" 24000, \"latest_short\")"
   ]
  },
  {
   "cell_type": "code",
   "execution_count": 82,
   "metadata": {},
   "outputs": [
    {
     "name": "stdout",
     "output_type": "stream",
     "text": [
      "Transcript: Olá esta é uma frase para testar a detecção de idioma multilingue\n",
      "lang code: pt-pt\n"
     ]
    }
   ],
   "source": [
    "stt(\"pt-PT\",24000, \"latest_short\")"
   ]
  },
  {
   "cell_type": "code",
   "execution_count": 83,
   "metadata": {},
   "outputs": [
    {
     "name": "stdout",
     "output_type": "stream",
     "text": [
      "Transcript: 你好这是一句用于测试多语言语言检测的句子\n",
      "lang code: cmn-hans-cn\n"
     ]
    }
   ],
   "source": [
    "stt(\"cmn-CN\",24000, \"latest_short\")"
   ]
  },
  {
   "cell_type": "code",
   "execution_count": 84,
   "metadata": {},
   "outputs": [
    {
     "name": "stdout",
     "output_type": "stream",
     "text": [
      "Transcript: 안녕하세요 다국어 언어 감지를 테스트 하기 위한 문장입니다\n",
      "lang code: ko-kr\n"
     ]
    }
   ],
   "source": [
    "stt(\"ko-KR\",24000, \"latest_short\")"
   ]
  },
  {
   "cell_type": "code",
   "execution_count": null,
   "metadata": {},
   "outputs": [],
   "source": [
    "stt(\"ja-JP\",24000, \"latest_short\")"
   ]
  },
  {
   "cell_type": "code",
   "execution_count": null,
   "metadata": {},
   "outputs": [],
   "source": [
    "stt(\"ar-AE\",24000, \"latest_short\")"
   ]
  },
  {
   "cell_type": "code",
   "execution_count": null,
   "metadata": {},
   "outputs": [],
   "source": [
    "stt(\"hi-IN\",24000, \"latest_short\")"
   ]
  },
  {
   "cell_type": "code",
   "execution_count": 160,
   "metadata": {},
   "outputs": [
    {
     "name": "stdout",
     "output_type": "stream",
     "text": [
      "Transcript: my favorite Korean food is 김치찌개\n",
      "Detected [lang code]]: en\n",
      "Translation API [lang code]: ko\n",
      "STT [lang code]: ko-kr\n"
     ]
    }
   ],
   "source": [
    "# 한국인 음섬 - 영어 + 한국어 발화\n",
    "stt(\"en-ko-word1\",48000)"
   ]
  },
  {
   "cell_type": "code",
   "execution_count": 161,
   "metadata": {},
   "outputs": [
    {
     "name": "stdout",
     "output_type": "stream",
     "text": [
      "Transcript: 김치찌개 It's my favorite food\n",
      "Detected [lang code]]: en\n",
      "Translation API [lang code]: ko\n",
      "STT [lang code]: ko-kr\n"
     ]
    }
   ],
   "source": [
    "# 한국인 음섬 - 영어 + 한국어 발화\n",
    "stt(\"ko-en-word1\", 48000)"
   ]
  },
  {
   "cell_type": "code",
   "execution_count": 162,
   "metadata": {},
   "outputs": [
    {
     "name": "stdout",
     "output_type": "stream",
     "text": [
      "Transcript: my favorite food is pizza\n",
      "Detected [lang code]]: en\n",
      "Translation API [lang code]: en\n",
      "STT [lang code]: ko-kr\n"
     ]
    }
   ],
   "source": [
    "# 한국인 음섬 - 영어 발화\n",
    "stt(\"ko-en-word3\", 48000)"
   ]
  },
  {
   "cell_type": "code",
   "execution_count": 163,
   "metadata": {},
   "outputs": [
    {
     "name": "stdout",
     "output_type": "stream",
     "text": [
      "Transcript: I love pizza it's my favorite food\n",
      "Detected [lang code]]: it\n",
      "Translation API [lang code]: en\n",
      "STT [lang code]: en-us\n"
     ]
    }
   ],
   "source": [
    "# 원어민 음섬 - 영어 발화\n",
    "stt(\"en-pizza\", 48000)"
   ]
  },
  {
   "cell_type": "code",
   "execution_count": 165,
   "metadata": {},
   "outputs": [
    {
     "name": "stdout",
     "output_type": "stream",
     "text": [
      "Transcript: my favorite Korean food is pizza\n",
      "Detected [lang code]]: en\n",
      "Translation API [lang code]: en\n",
      "STT [lang code]: en-us\n"
     ]
    }
   ],
   "source": [
    "# 스페인 음섬 - 영어 발화\n",
    "stt(\"en-es-word\", 24000)"
   ]
  },
  {
   "cell_type": "code",
   "execution_count": 166,
   "metadata": {},
   "outputs": [
    {
     "data": {
      "text/plain": [
       "'it'"
      ]
     },
     "execution_count": 166,
     "metadata": {},
     "output_type": "execute_result"
    }
   ],
   "source": [
    "# Python detect 언어감지 오류 case\n",
    "detect(\"I love pizza it's my favorite food\")"
   ]
  },
  {
   "cell_type": "code",
   "execution_count": 167,
   "metadata": {},
   "outputs": [
    {
     "data": {
      "text/plain": [
       "'en'"
      ]
     },
     "execution_count": 167,
     "metadata": {},
     "output_type": "execute_result"
    }
   ],
   "source": [
    "# Translation API 언어 감지 \n",
    "detect_language(\"I love pizza it's my favorite food\")"
   ]
  }
 ],
 "metadata": {
  "colab": {
   "provenance": []
  },
  "environment": {
   "kernel": "conda-root-py",
   "name": "workbench-notebooks.m109",
   "type": "gcloud",
   "uri": "gcr.io/deeplearning-platform-release/workbench-notebooks:m109"
  },
  "kernelspec": {
   "display_name": "Python 3",
   "language": "python",
   "name": "conda-root-py"
  },
  "language_info": {
   "codemirror_mode": {
    "name": "ipython",
    "version": 3
   },
   "file_extension": ".py",
   "mimetype": "text/x-python",
   "name": "python",
   "nbconvert_exporter": "python",
   "pygments_lexer": "ipython3",
   "version": "3.10.12"
  }
 },
 "nbformat": 4,
 "nbformat_minor": 4
}
