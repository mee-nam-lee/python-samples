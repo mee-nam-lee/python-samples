{
 "cells": [
  {
   "cell_type": "code",
   "execution_count": null,
   "metadata": {
    "colab": {
     "base_uri": "https://localhost:8080/",
     "height": 498
    },
    "executionInfo": {
     "elapsed": 16018,
     "status": "ok",
     "timestamp": 1711344554051,
     "user": {
      "displayName": "",
      "userId": ""
     },
     "user_tz": -540
    },
    "id": "ePE4zlkbFGAK",
    "outputId": "4e2b1b88-14b5-46d4-adaf-f650582f8f9c"
   },
   "outputs": [],
   "source": [
    "!pip install google-cloud-speech google-cloud"
   ]
  },
  {
   "cell_type": "code",
   "execution_count": 54,
   "metadata": {
    "executionInfo": {
     "elapsed": 4,
     "status": "ok",
     "timestamp": 1711344567080,
     "user": {
      "displayName": "",
      "userId": ""
     },
     "user_tz": -540
    },
    "id": "jsQX-9UwDXtH"
   },
   "outputs": [],
   "source": [
    "BUCKET_NAME = \"mnlee-stt\" # @param {type:\"string\"}"
   ]
  },
  {
   "cell_type": "code",
   "execution_count": 47,
   "metadata": {
    "executionInfo": {
     "elapsed": 476,
     "status": "ok",
     "timestamp": 1711344617360,
     "user": {
      "displayName": "",
      "userId": ""
     },
     "user_tz": -540
    },
    "id": "pl_2j00tDbpP"
   },
   "outputs": [],
   "source": [
    "wav_ko_kr = f\"gs://{BUCKET_NAME}/robot/ko-KR.wav\"\n",
    "wav_en_us = f\"gs://{BUCKET_NAME}/robot/en-US.wav\"\n",
    "wav_de_de = f\"gs://{BUCKET_NAME}/robot/de-DE.wav\"\n",
    "wav_es_es = f\"gs://{BUCKET_NAME}/robot/es-ES.wav\"\n",
    "wav_fr_fr = f\"gs://{BUCKET_NAME}/robot/fr-FR.wav\"\n",
    "wav_ja_jp = f\"gs://{BUCKET_NAME}/robot/ja-JP.wav\"\n",
    "wav_ms_my = f\"gs://{BUCKET_NAME}/robot/ms-MY.wav\"\n",
    "wav_vi_vn = f\"gs://{BUCKET_NAME}/robot/vi-VN.wav\"\n",
    "wav_sv_se = f\"gs://{BUCKET_NAME}/robot/sv-SE.wav\""
   ]
  },
  {
   "cell_type": "code",
   "execution_count": 38,
   "metadata": {
    "executionInfo": {
     "elapsed": 3,
     "status": "ok",
     "timestamp": 1711344573267,
     "user": {
      "displayName": "",
      "userId": ""
     },
     "user_tz": -540
    },
    "id": "ZfIJ_JFVDWOT"
   },
   "outputs": [],
   "source": [
    "from google.cloud import speech_v1p1beta1 as speech\n",
    "#from google.cloud import speech_v2 as speech\n",
    "\n",
    "#def stt(wav_uri) -> speech.RecognizeResponse:\n",
    "def stt(wav_uri):\n",
    "    # Instantiates a client\n",
    "    client = speech.SpeechClient()\n",
    "\n",
    "    audio = speech.RecognitionAudio(uri=wav_uri)\n",
    "\n",
    "    config = speech.RecognitionConfig(\n",
    "        encoding=speech.RecognitionConfig.AudioEncoding.LINEAR16,\n",
    "        language_code=\"en-US\",\n",
    "        #sample_rate_hertz=44100,\n",
    "        alternative_language_codes=[\"ko-KR\",\"de-DE\",\"es-ES\",\"fr-FR\",\"ja-JP\",\"ms-MY\",\"vi-VN\",\"sv-SE\",\"zh-CN\"]\n",
    "    )\n",
    "\n",
    "    # Detects speech in the audio file\n",
    "    response = client.recognize(config=config, audio=audio)\n",
    "    #print(response)\n",
    "    for result in response.results:\n",
    "        print(\"Transcript: {}\".format(result.alternatives[0].transcript))\n",
    "        print(\"lang code: {}\".format(result.language_code))\n",
    "          \n",
    "    #return response"
   ]
  },
  {
   "cell_type": "code",
   "execution_count": 39,
   "metadata": {
    "colab": {
     "base_uri": "https://localhost:8080/",
     "height": 842
    },
    "executionInfo": {
     "elapsed": 1141,
     "status": "error",
     "timestamp": 1711344621206,
     "user": {
      "displayName": "",
      "userId": ""
     },
     "user_tz": -540
    },
    "id": "QtMi26nSFg-5",
    "outputId": "6f2515a6-a392-4cca-bcb1-a01d9c17c214"
   },
   "outputs": [
    {
     "name": "stdout",
     "output_type": "stream",
     "text": [
      "Transcript: 안녕하세요 다국어 지원 테스트입니다\n",
      "lang code: ko-kr\n"
     ]
    }
   ],
   "source": [
    "stt(wav_ko_kr)"
   ]
  },
  {
   "cell_type": "code",
   "execution_count": 56,
   "metadata": {},
   "outputs": [
    {
     "name": "stdout",
     "output_type": "stream",
     "text": [
      "Transcript: hello this is a multilingual support test\n",
      "lang code: en-us\n"
     ]
    }
   ],
   "source": [
    "stt(wav_en_us)"
   ]
  },
  {
   "cell_type": "code",
   "execution_count": 44,
   "metadata": {},
   "outputs": [
    {
     "name": "stdout",
     "output_type": "stream",
     "text": [
      "Transcript: hallo dies ist ein mehrsprachiger Support Test\n",
      "lang code: de-de\n"
     ]
    }
   ],
   "source": [
    "stt(wav_de_de)"
   ]
  },
  {
   "cell_type": "code",
   "execution_count": 45,
   "metadata": {},
   "outputs": [
    {
     "name": "stdout",
     "output_type": "stream",
     "text": [
      "Transcript: hola esta es una prueba de soporte multilingüe\n",
      "lang code: es-es\n"
     ]
    }
   ],
   "source": [
    "stt(wav_es_es)"
   ]
  },
  {
   "cell_type": "code",
   "execution_count": 48,
   "metadata": {},
   "outputs": [
    {
     "name": "stdout",
     "output_type": "stream",
     "text": [
      "Transcript: bonjour Il s'agit d'un test de support multilingue\n",
      "lang code: fr-fr\n"
     ]
    }
   ],
   "source": [
    "stt(wav_fr_fr)"
   ]
  },
  {
   "cell_type": "code",
   "execution_count": 49,
   "metadata": {},
   "outputs": [
    {
     "name": "stdout",
     "output_type": "stream",
     "text": [
      "Transcript: こんにちは多言語サポートテストです\n",
      "lang code: ja-jp\n"
     ]
    }
   ],
   "source": [
    "stt(wav_ja_jp)"
   ]
  },
  {
   "cell_type": "code",
   "execution_count": 50,
   "metadata": {},
   "outputs": [
    {
     "name": "stdout",
     "output_type": "stream",
     "text": [
      "Transcript: Helo ini ialah ujian sokongan berbilang bahasa\n",
      "lang code: ms-my\n"
     ]
    }
   ],
   "source": [
    "stt(wav_ms_my)"
   ]
  },
  {
   "cell_type": "code",
   "execution_count": 52,
   "metadata": {},
   "outputs": [
    {
     "name": "stdout",
     "output_type": "stream",
     "text": [
      "Transcript: Sing Tao Daily by Kim Chattahoochee\n",
      "lang code: en-us\n"
     ]
    }
   ],
   "source": [
    "stt(wav_vi_vn)"
   ]
  },
  {
   "cell_type": "code",
   "execution_count": 53,
   "metadata": {},
   "outputs": [
    {
     "name": "stdout",
     "output_type": "stream",
     "text": [
      "Transcript: Helvete Facebook IT support Test\n",
      "lang code: de-de\n"
     ]
    }
   ],
   "source": [
    "stt(wav_sv_se)"
   ]
  }
 ],
 "metadata": {
  "colab": {
   "provenance": []
  },
  "environment": {
   "kernel": "conda-root-py",
   "name": "workbench-notebooks.m109",
   "type": "gcloud",
   "uri": "gcr.io/deeplearning-platform-release/workbench-notebooks:m109"
  },
  "kernelspec": {
   "display_name": "Python 3",
   "language": "python",
   "name": "conda-root-py"
  },
  "language_info": {
   "codemirror_mode": {
    "name": "ipython",
    "version": 3
   },
   "file_extension": ".py",
   "mimetype": "text/x-python",
   "name": "python",
   "nbconvert_exporter": "python",
   "pygments_lexer": "ipython3",
   "version": "3.10.12"
  }
 },
 "nbformat": 4,
 "nbformat_minor": 4
}
