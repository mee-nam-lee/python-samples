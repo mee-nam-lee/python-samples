{
 "cells": [
  {
   "cell_type": "code",
   "execution_count": 65,
   "metadata": {
    "colab": {
     "base_uri": "https://localhost:8080/",
     "height": 498
    },
    "executionInfo": {
     "elapsed": 16018,
     "status": "ok",
     "timestamp": 1711344554051,
     "user": {
      "displayName": "",
      "userId": ""
     },
     "user_tz": -540
    },
    "id": "ePE4zlkbFGAK",
    "outputId": "4e2b1b88-14b5-46d4-adaf-f650582f8f9c"
   },
   "outputs": [
    {
     "name": "stderr",
     "output_type": "stream",
     "text": [
      "4111.49s - pydevd: Sending message related to process being replaced timed-out after 5 seconds\n"
     ]
    },
    {
     "name": "stdout",
     "output_type": "stream",
     "text": [
      "Defaulting to user installation because normal site-packages is not writeable\n",
      "Requirement already satisfied: google-cloud-speech in /Users/mnlee/Library/Python/3.9/lib/python/site-packages (2.25.1)\n",
      "Requirement already satisfied: google-cloud in /Users/mnlee/Library/Python/3.9/lib/python/site-packages (0.34.0)\n",
      "Requirement already satisfied: google-cloud-texttospeech in /Users/mnlee/Library/Python/3.9/lib/python/site-packages (2.16.3)\n",
      "Collecting langdetect\n",
      "  Downloading langdetect-1.0.9.tar.gz (981 kB)\n",
      "\u001b[K     |████████████████████████████████| 981 kB 1.6 MB/s eta 0:00:01\n",
      "\u001b[?25hRequirement already satisfied: google-api-core[grpc]!=2.0.*,!=2.1.*,!=2.10.*,!=2.2.*,!=2.3.*,!=2.4.*,!=2.5.*,!=2.6.*,!=2.7.*,!=2.8.*,!=2.9.*,<3.0.0dev,>=1.34.1 in /Users/mnlee/Library/Python/3.9/lib/python/site-packages (from google-cloud-speech) (2.18.0)\n",
      "Requirement already satisfied: proto-plus<2.0.0dev,>=1.22.3 in /Users/mnlee/Library/Python/3.9/lib/python/site-packages (from google-cloud-speech) (1.23.0)\n",
      "Requirement already satisfied: protobuf!=3.20.0,!=3.20.1,!=4.21.0,!=4.21.1,!=4.21.2,!=4.21.3,!=4.21.4,!=4.21.5,<5.0.0dev,>=3.19.5 in /Users/mnlee/Library/Python/3.9/lib/python/site-packages (from google-cloud-speech) (4.25.3)\n",
      "Requirement already satisfied: google-auth!=2.24.0,!=2.25.0,<3.0.0dev,>=2.14.1 in /Users/mnlee/Library/Python/3.9/lib/python/site-packages (from google-cloud-speech) (2.29.0)\n",
      "Requirement already satisfied: six in /Library/Developer/CommandLineTools/Library/Frameworks/Python3.framework/Versions/3.9/lib/python3.9/site-packages (from langdetect) (1.15.0)\n",
      "Requirement already satisfied: googleapis-common-protos<2.0.dev0,>=1.56.2 in /Users/mnlee/Library/Python/3.9/lib/python/site-packages (from google-api-core[grpc]!=2.0.*,!=2.1.*,!=2.10.*,!=2.2.*,!=2.3.*,!=2.4.*,!=2.5.*,!=2.6.*,!=2.7.*,!=2.8.*,!=2.9.*,<3.0.0dev,>=1.34.1->google-cloud-speech) (1.63.0)\n",
      "Requirement already satisfied: requests<3.0.0.dev0,>=2.18.0 in /Users/mnlee/Library/Python/3.9/lib/python/site-packages (from google-api-core[grpc]!=2.0.*,!=2.1.*,!=2.10.*,!=2.2.*,!=2.3.*,!=2.4.*,!=2.5.*,!=2.6.*,!=2.7.*,!=2.8.*,!=2.9.*,<3.0.0dev,>=1.34.1->google-cloud-speech) (2.31.0)\n",
      "Requirement already satisfied: grpcio<2.0dev,>=1.33.2 in /Users/mnlee/Library/Python/3.9/lib/python/site-packages (from google-api-core[grpc]!=2.0.*,!=2.1.*,!=2.10.*,!=2.2.*,!=2.3.*,!=2.4.*,!=2.5.*,!=2.6.*,!=2.7.*,!=2.8.*,!=2.9.*,<3.0.0dev,>=1.34.1->google-cloud-speech) (1.62.1)\n",
      "Requirement already satisfied: grpcio-status<2.0.dev0,>=1.33.2 in /Users/mnlee/Library/Python/3.9/lib/python/site-packages (from google-api-core[grpc]!=2.0.*,!=2.1.*,!=2.10.*,!=2.2.*,!=2.3.*,!=2.4.*,!=2.5.*,!=2.6.*,!=2.7.*,!=2.8.*,!=2.9.*,<3.0.0dev,>=1.34.1->google-cloud-speech) (1.62.1)\n",
      "Requirement already satisfied: pyasn1-modules>=0.2.1 in /Users/mnlee/Library/Python/3.9/lib/python/site-packages (from google-auth!=2.24.0,!=2.25.0,<3.0.0dev,>=2.14.1->google-cloud-speech) (0.4.0)\n",
      "Requirement already satisfied: rsa<5,>=3.1.4 in /Users/mnlee/Library/Python/3.9/lib/python/site-packages (from google-auth!=2.24.0,!=2.25.0,<3.0.0dev,>=2.14.1->google-cloud-speech) (4.9)\n",
      "Requirement already satisfied: cachetools<6.0,>=2.0.0 in /Users/mnlee/Library/Python/3.9/lib/python/site-packages (from google-auth!=2.24.0,!=2.25.0,<3.0.0dev,>=2.14.1->google-cloud-speech) (5.3.3)\n",
      "Requirement already satisfied: pyasn1<0.7.0,>=0.4.6 in /Users/mnlee/Library/Python/3.9/lib/python/site-packages (from pyasn1-modules>=0.2.1->google-auth!=2.24.0,!=2.25.0,<3.0.0dev,>=2.14.1->google-cloud-speech) (0.6.0)\n",
      "Requirement already satisfied: idna<4,>=2.5 in /Users/mnlee/Library/Python/3.9/lib/python/site-packages (from requests<3.0.0.dev0,>=2.18.0->google-api-core[grpc]!=2.0.*,!=2.1.*,!=2.10.*,!=2.2.*,!=2.3.*,!=2.4.*,!=2.5.*,!=2.6.*,!=2.7.*,!=2.8.*,!=2.9.*,<3.0.0dev,>=1.34.1->google-cloud-speech) (3.6)\n",
      "Requirement already satisfied: certifi>=2017.4.17 in /Users/mnlee/Library/Python/3.9/lib/python/site-packages (from requests<3.0.0.dev0,>=2.18.0->google-api-core[grpc]!=2.0.*,!=2.1.*,!=2.10.*,!=2.2.*,!=2.3.*,!=2.4.*,!=2.5.*,!=2.6.*,!=2.7.*,!=2.8.*,!=2.9.*,<3.0.0dev,>=1.34.1->google-cloud-speech) (2024.2.2)\n",
      "Requirement already satisfied: charset-normalizer<4,>=2 in /Users/mnlee/Library/Python/3.9/lib/python/site-packages (from requests<3.0.0.dev0,>=2.18.0->google-api-core[grpc]!=2.0.*,!=2.1.*,!=2.10.*,!=2.2.*,!=2.3.*,!=2.4.*,!=2.5.*,!=2.6.*,!=2.7.*,!=2.8.*,!=2.9.*,<3.0.0dev,>=1.34.1->google-cloud-speech) (3.3.2)\n",
      "Requirement already satisfied: urllib3<3,>=1.21.1 in /Users/mnlee/Library/Python/3.9/lib/python/site-packages (from requests<3.0.0.dev0,>=2.18.0->google-api-core[grpc]!=2.0.*,!=2.1.*,!=2.10.*,!=2.2.*,!=2.3.*,!=2.4.*,!=2.5.*,!=2.6.*,!=2.7.*,!=2.8.*,!=2.9.*,<3.0.0dev,>=1.34.1->google-cloud-speech) (2.2.1)\n",
      "Building wheels for collected packages: langdetect\n",
      "  Building wheel for langdetect (setup.py) ... \u001b[?25ldone\n",
      "\u001b[?25h  Created wheel for langdetect: filename=langdetect-1.0.9-py3-none-any.whl size=993242 sha256=43b4b1e9511d1cfc04d4537a373d37f0dfe08d3c0852b45a8d2269cdbf511776\n",
      "  Stored in directory: /Users/mnlee/Library/Caches/pip/wheels/d1/c1/d9/7e068de779d863bc8f8fc9467d85e25cfe47fa5051fff1a1bb\n",
      "Successfully built langdetect\n",
      "Installing collected packages: langdetect\n",
      "Successfully installed langdetect-1.0.9\n",
      "\u001b[33mWARNING: You are using pip version 21.2.4; however, version 24.0 is available.\n",
      "You should consider upgrading via the '/Library/Developer/CommandLineTools/usr/bin/python3 -m pip install --upgrade pip' command.\u001b[0m\n"
     ]
    }
   ],
   "source": [
    "!pip3 install google-cloud-speech google-cloud google-cloud-texttospeech langdetect"
   ]
  },
  {
   "cell_type": "code",
   "execution_count": 21,
   "metadata": {
    "executionInfo": {
     "elapsed": 4,
     "status": "ok",
     "timestamp": 1711344567080,
     "user": {
      "displayName": "",
      "userId": ""
     },
     "user_tz": -540
    },
    "id": "jsQX-9UwDXtH"
   },
   "outputs": [],
   "source": [
    "BUCKET_NAME = \"mnlee-stt\" # @param {type:\"string\"}"
   ]
  },
  {
   "cell_type": "code",
   "execution_count": 31,
   "metadata": {},
   "outputs": [],
   "source": [
    "def synthesize_text(lang_code, text, audio_name):\n",
    "    \"\"\"Synthesizes speech from the input string of text.\"\"\"\n",
    "    from google.cloud import texttospeech\n",
    "\n",
    "    client = texttospeech.TextToSpeechClient()\n",
    "\n",
    "    input_text = texttospeech.SynthesisInput(text=text)\n",
    "\n",
    "    # Note: the voice can also be specified by name.\n",
    "    # Names of voices can be retrieved with client.list_voices().\n",
    "    voice = texttospeech.VoiceSelectionParams(\n",
    "        language_code=lang_code,\n",
    "        #name=\"en-US-Standard-C\",\n",
    "        ssml_gender=texttospeech.SsmlVoiceGender.FEMALE,\n",
    "    )\n",
    "\n",
    "    audio_config = texttospeech.AudioConfig(\n",
    "        audio_encoding=texttospeech.AudioEncoding.LINEAR16\n",
    "    )\n",
    "\n",
    "    response = client.synthesize_speech(\n",
    "        request={\"input\": input_text, \"voice\": voice, \"audio_config\": audio_config}\n",
    "    )\n",
    "\n",
    "    # The response's audio_content is binary.\n",
    "    with open(f\"{audio_name}.wav\", \"wb\") as out:\n",
    "        out.write(response.audio_content)\n",
    "        print(f\"Audio content written to file {audio_name}.wav\")"
   ]
  },
  {
   "cell_type": "code",
   "execution_count": 3,
   "metadata": {},
   "outputs": [
    {
     "name": "stderr",
     "output_type": "stream",
     "text": [
      "/Users/mnlee/Library/Python/3.9/lib/python/site-packages/urllib3/__init__.py:35: NotOpenSSLWarning: urllib3 v2 only supports OpenSSL 1.1.1+, currently the 'ssl' module is compiled with 'LibreSSL 2.8.3'. See: https://github.com/urllib3/urllib3/issues/3020\n",
      "  warnings.warn(\n"
     ]
    },
    {
     "name": "stdout",
     "output_type": "stream",
     "text": [
      "Audio content written to file en-US.wav\n"
     ]
    }
   ],
   "source": [
    "synthesize_text(\"en-US\",\"Hello. This is a sentence to test multilingual language detection.\", \"en-US\")"
   ]
  },
  {
   "cell_type": "code",
   "execution_count": 5,
   "metadata": {},
   "outputs": [
    {
     "name": "stdout",
     "output_type": "stream",
     "text": [
      "Audio content written to file es-ES.wav\n"
     ]
    }
   ],
   "source": [
    "synthesize_text(\"es-ES\",\"Hola. Esta es una oración para probar la detección de lenguaje multilingüe.\", \"es-ES\")"
   ]
  },
  {
   "cell_type": "code",
   "execution_count": 6,
   "metadata": {},
   "outputs": [
    {
     "name": "stdout",
     "output_type": "stream",
     "text": [
      "Audio content written to file fr-FR.wav\n"
     ]
    }
   ],
   "source": [
    "synthesize_text(\"fr-FR\",\"Bonjour. Ceci est une phrase pour tester la détection de langue multilingue.\", \"fr-FR\")"
   ]
  },
  {
   "cell_type": "code",
   "execution_count": 7,
   "metadata": {},
   "outputs": [
    {
     "name": "stdout",
     "output_type": "stream",
     "text": [
      "Audio content written to file de-DE.wav\n"
     ]
    }
   ],
   "source": [
    "synthesize_text(\"de-DE\",\"Hallo. Dies ist ein Satz, um die mehrsprachige Spracherkennung zu testen.\", \"de-DE\")"
   ]
  },
  {
   "cell_type": "code",
   "execution_count": 8,
   "metadata": {},
   "outputs": [
    {
     "name": "stdout",
     "output_type": "stream",
     "text": [
      "Audio content written to file pt-PT.wav\n"
     ]
    }
   ],
   "source": [
    "synthesize_text(\"pt-PT\",\"Olá. Esta é uma frase para testar a detecção de idioma multilíngue.\", \"pt-PT\")"
   ]
  },
  {
   "cell_type": "code",
   "execution_count": 9,
   "metadata": {},
   "outputs": [
    {
     "name": "stdout",
     "output_type": "stream",
     "text": [
      "Audio content written to file cmn-CN.wav\n"
     ]
    }
   ],
   "source": [
    "synthesize_text(\"cmn-CN\",\"你好。这是一句用于测试多语言语言检测的句子。\", \"cmn-CN\")"
   ]
  },
  {
   "cell_type": "code",
   "execution_count": 10,
   "metadata": {},
   "outputs": [
    {
     "name": "stdout",
     "output_type": "stream",
     "text": [
      "Audio content written to file ja-JP.wav\n"
     ]
    }
   ],
   "source": [
    "synthesize_text(\"ja-JP\",\"こんにちは。これは多言語言語検出をテストするための文です。\", \"ja-JP\")"
   ]
  },
  {
   "cell_type": "code",
   "execution_count": 11,
   "metadata": {},
   "outputs": [
    {
     "name": "stdout",
     "output_type": "stream",
     "text": [
      "Audio content written to file ko-KR.wav\n"
     ]
    }
   ],
   "source": [
    "synthesize_text(\"ko-KR\",\"안녕하세요. 다국어 언어 감지를 테스트하기 위한 문장입니다.\", \"ko-KR\")"
   ]
  },
  {
   "cell_type": "code",
   "execution_count": 41,
   "metadata": {},
   "outputs": [
    {
     "name": "stdout",
     "output_type": "stream",
     "text": [
      "Audio content written to file ko-en-word.wav\n"
     ]
    }
   ],
   "source": [
    "synthesize_text(\"ko-KR\",\"hello good morning. 영한 혼합 문장입니다\", \"ko-en-word\")"
   ]
  },
  {
   "cell_type": "code",
   "execution_count": 12,
   "metadata": {},
   "outputs": [
    {
     "name": "stdout",
     "output_type": "stream",
     "text": [
      "Audio content written to file ar-AE.wav\n"
     ]
    }
   ],
   "source": [
    "synthesize_text(\"ar-AE\",\"مرحبًا. هذه جملة لاختبار اكتشاف اللغة متعددة اللغات.\", \"ar-AE\")"
   ]
  },
  {
   "cell_type": "code",
   "execution_count": 60,
   "metadata": {},
   "outputs": [
    {
     "name": "stdout",
     "output_type": "stream",
     "text": [
      "Audio content written to file hi-IN.wav\n"
     ]
    }
   ],
   "source": [
    "synthesize_text(\"hi-IN\",\"नमस्ते। यह बहुभाषी भाषा पहचान का परीक्षण करने के लिए एक वाक्य है.\", \"hi-IN\")"
   ]
  },
  {
   "cell_type": "code",
   "execution_count": null,
   "metadata": {},
   "outputs": [],
   "source": [
    "#!gsutil cp ko-en-word2.wav gs://mnlee-stt/robot/wav/\n",
    "!gsutil cp *.wav gs://mnlee-stt/robot/wav/"
   ]
  },
  {
   "cell_type": "code",
   "execution_count": 72,
   "metadata": {
    "executionInfo": {
     "elapsed": 3,
     "status": "ok",
     "timestamp": 1711344573267,
     "user": {
      "displayName": "",
      "userId": ""
     },
     "user_tz": -540
    },
    "id": "ZfIJ_JFVDWOT"
   },
   "outputs": [],
   "source": [
    "from google.cloud import speech_v1p1beta1 as speech\n",
    "from langdetect import detect\n",
    "#from google.cloud import speech_v2 as speech\n",
    "\n",
    "#def stt(wav_uri) -> speech.RecognizeResponse:\n",
    "def stt(lang_code):\n",
    "    # Instantiates a client\n",
    "    client = speech.SpeechClient()\n",
    "    audio_uri = f\"gs://{BUCKET_NAME}/robot/wav/{lang_code}.wav\"\n",
    "    audio = speech.RecognitionAudio(uri=audio_uri)\n",
    "\n",
    "    config = speech.RecognitionConfig(\n",
    "        encoding=speech.RecognitionConfig.AudioEncoding.LINEAR16,\n",
    "        language_code=\"en-US\",\n",
    "        sample_rate_hertz=24000,\n",
    "        #sample_rate_hertz=48000,\n",
    "        #alternative_language_codes=[\"es-ES\",\"fr-FR\",\"de-DE\",\"pt-PT\",\"cmn-CN\",\"ja-JP\",\"ko-KR\", \"ar-AE\", \"hi-IN\"]\n",
    "        alternative_language_codes=[\"es-ES\",\"fr-FR\",\"de-DE\",\"pt-PT\",\"cmn-CN\",\"ko-KR\"]\n",
    "        maxAlternatives=2,\n",
    "        enableSpokenPunctuation=True\n",
    "    )\n",
    "\n",
    "    # Detects speech in the audio file\n",
    "    response = client.recognize(config=config, audio=audio)\n",
    "    #print(response)\n",
    "    for result in response.results:\n",
    "        for alternative in result.alternatives:\n",
    "            print(\"Transcript: {}\".format(result.alternatives.transcript))    \n",
    "            print(\"Detected [lang code]]: {}\".format(detect(result.alternatives.transcript)))\n",
    "        print(\"STT [lang code]: {}\".format(result.language_code))\n",
    "          \n",
    "    #return response"
   ]
  },
  {
   "cell_type": "code",
   "execution_count": 78,
   "metadata": {
    "colab": {
     "base_uri": "https://localhost:8080/",
     "height": 842
    },
    "executionInfo": {
     "elapsed": 1141,
     "status": "error",
     "timestamp": 1711344621206,
     "user": {
      "displayName": "",
      "userId": ""
     },
     "user_tz": -540
    },
    "id": "QtMi26nSFg-5",
    "outputId": "6f2515a6-a392-4cca-bcb1-a01d9c17c214"
   },
   "outputs": [
    {
     "name": "stdout",
     "output_type": "stream",
     "text": [
      "Transcript: hello this is a descendants 2 test multilingual language detection\n",
      "lang code: en-us\n"
     ]
    }
   ],
   "source": [
    "stt(\"en-US\")"
   ]
  },
  {
   "cell_type": "code",
   "execution_count": 79,
   "metadata": {},
   "outputs": [
    {
     "name": "stdout",
     "output_type": "stream",
     "text": [
      "Transcript: hola esta es una oración para aprobar la detección de lenguaje multilingüe\n",
      "lang code: es-es\n"
     ]
    }
   ],
   "source": [
    "stt(\"es-ES\")"
   ]
  },
  {
   "cell_type": "code",
   "execution_count": 80,
   "metadata": {},
   "outputs": [
    {
     "name": "stdout",
     "output_type": "stream",
     "text": [
      "Transcript: bonjour ceci est une phrase pour tester la détection de langue multilingue\n",
      "lang code: fr-fr\n"
     ]
    }
   ],
   "source": [
    "stt(\"fr-FR\")"
   ]
  },
  {
   "cell_type": "code",
   "execution_count": 81,
   "metadata": {},
   "outputs": [
    {
     "name": "stdout",
     "output_type": "stream",
     "text": [
      "Transcript: hallo dies ist ein Satz um die mehrsprachige Spracherkennung zu testen\n",
      "lang code: de-de\n"
     ]
    }
   ],
   "source": [
    "stt(\"de-DE\")"
   ]
  },
  {
   "cell_type": "code",
   "execution_count": 82,
   "metadata": {},
   "outputs": [
    {
     "name": "stdout",
     "output_type": "stream",
     "text": [
      "Transcript: Olá esta é uma frase para testar a detecção de idioma multilingue\n",
      "lang code: pt-pt\n"
     ]
    }
   ],
   "source": [
    "stt(\"pt-PT\")"
   ]
  },
  {
   "cell_type": "code",
   "execution_count": 83,
   "metadata": {},
   "outputs": [
    {
     "name": "stdout",
     "output_type": "stream",
     "text": [
      "Transcript: 你好这是一句用于测试多语言语言检测的句子\n",
      "lang code: cmn-hans-cn\n"
     ]
    }
   ],
   "source": [
    "stt(\"cmn-CN\")"
   ]
  },
  {
   "cell_type": "code",
   "execution_count": 84,
   "metadata": {},
   "outputs": [
    {
     "name": "stdout",
     "output_type": "stream",
     "text": [
      "Transcript: 안녕하세요 다국어 언어 감지를 테스트 하기 위한 문장입니다\n",
      "lang code: ko-kr\n"
     ]
    }
   ],
   "source": [
    "stt(\"ko-KR\")"
   ]
  },
  {
   "cell_type": "code",
   "execution_count": null,
   "metadata": {},
   "outputs": [],
   "source": [
    "stt(\"ja-JP\")"
   ]
  },
  {
   "cell_type": "code",
   "execution_count": null,
   "metadata": {},
   "outputs": [],
   "source": [
    "stt(\"ar-AE\")"
   ]
  },
  {
   "cell_type": "code",
   "execution_count": null,
   "metadata": {},
   "outputs": [],
   "source": [
    "stt(\"hi-IN\")"
   ]
  },
  {
   "cell_type": "code",
   "execution_count": 68,
   "metadata": {},
   "outputs": [
    {
     "name": "stdout",
     "output_type": "stream",
     "text": [
      "Transcript: my favorite food is 김치찌개\n",
      "STT [lang code]: ko-kr\n",
      "Detected [lang code]]: en\n"
     ]
    }
   ],
   "source": [
    "stt(\"en-ko-word2\")"
   ]
  },
  {
   "cell_type": "code",
   "execution_count": 70,
   "metadata": {},
   "outputs": [
    {
     "name": "stdout",
     "output_type": "stream",
     "text": [
      "Transcript: 김치찌개 is my favorite food\n",
      "STT [lang code]: ko-kr\n",
      "Detected [lang code]]: en\n"
     ]
    }
   ],
   "source": [
    "stt(\"ko-en-word2\")"
   ]
  },
  {
   "cell_type": "code",
   "execution_count": 66,
   "metadata": {},
   "outputs": [],
   "source": [
    "\n"
   ]
  },
  {
   "cell_type": "markdown",
   "metadata": {},
   "source": [
    "## audio concat"
   ]
  },
  {
   "cell_type": "code",
   "execution_count": 22,
   "metadata": {},
   "outputs": [
    {
     "name": "stderr",
     "output_type": "stream",
     "text": [
      "892.87s - pydevd: Sending message related to process being replaced timed-out after 5 seconds\n"
     ]
    },
    {
     "name": "stdout",
     "output_type": "stream",
     "text": [
      "Defaulting to user installation because normal site-packages is not writeable\n",
      "Requirement already satisfied: pydub in /Users/mnlee/Library/Python/3.9/lib/python/site-packages (0.25.1)\n",
      "\u001b[33mWARNING: You are using pip version 21.2.4; however, version 24.0 is available.\n",
      "You should consider upgrading via the '/Library/Developer/CommandLineTools/usr/bin/python3 -m pip install --upgrade pip' command.\u001b[0m\n"
     ]
    }
   ],
   "source": [
    "!pip3 install pydub"
   ]
  },
  {
   "cell_type": "code",
   "execution_count": 77,
   "metadata": {},
   "outputs": [
    {
     "data": {
      "text/plain": [
       "<_io.BufferedRandom name='en_ko_es_fr.wav'>"
      ]
     },
     "execution_count": 77,
     "metadata": {},
     "output_type": "execute_result"
    }
   ],
   "source": [
    "from pydub import AudioSegment\n",
    "\n",
    "en = AudioSegment.from_wav(\"en-US.wav\")\n",
    "ko = AudioSegment.from_wav(\"ko-KR.wav\")\n",
    "es = AudioSegment.from_wav(\"es-ES.wav\")\n",
    "fr = AudioSegment.from_wav(\"fr-FR.wav\")\n",
    "silence = AudioSegment.silent(duration=2000)\n",
    "en_ko = en + silence + ko\n",
    "en_ko.export(\"en_ko.wav\", format=\"wav\")\n",
    "es_fr = es + silence + fr\n",
    "es_fr.export(\"es_fr.wav\", format=\"wav\")\n",
    "en_ko_es_fr = en + silence + ko + silence + es + silence + fr\n",
    "en_ko_es_fr.export(\"en_ko_es_fr.wav\", format=\"wav\")"
   ]
  },
  {
   "cell_type": "code",
   "execution_count": 78,
   "metadata": {},
   "outputs": [
    {
     "name": "stdout",
     "output_type": "stream",
     "text": [
      "Transcript: hello this is a sentence to test multilingual language detection\n",
      "STT [lang code]: en-us\n",
      "Detected [lang code]]: en\n",
      "Transcript:  I know that's how I will go and I'll give you\n",
      "STT [lang code]: en-us\n",
      "Detected [lang code]]: en\n"
     ]
    }
   ],
   "source": [
    "stt(\"en_ko\")"
   ]
  },
  {
   "cell_type": "code",
   "execution_count": 79,
   "metadata": {},
   "outputs": [
    {
     "name": "stdout",
     "output_type": "stream",
     "text": [
      "Transcript: tu n'as pas de la détection de bonjour ceci est une phrase pour tester la détection de langue multilingue\n",
      "STT [lang code]: fr-fr\n",
      "Detected [lang code]]: fr\n"
     ]
    }
   ],
   "source": [
    "stt(\"es_fr\")"
   ]
  },
  {
   "cell_type": "code",
   "execution_count": 80,
   "metadata": {},
   "outputs": [
    {
     "name": "stdout",
     "output_type": "stream",
     "text": [
      "Transcript: hello this is a sentence to test multilingual language detection\n",
      "STT [lang code]: en-us\n",
      "Detected [lang code]]: en\n",
      "Transcript:  I know that's how I will go and I'll give you\n",
      "STT [lang code]: en-us\n",
      "Detected [lang code]]: en\n",
      "Transcript:  hola senora multi-language\n",
      "STT [lang code]: en-us\n",
      "Detected [lang code]]: ca\n",
      "Transcript:  Google search in Facebook they still addiction to Long Beach Island\n",
      "STT [lang code]: en-us\n",
      "Detected [lang code]]: en\n"
     ]
    }
   ],
   "source": [
    "stt(\"en_ko_es_fr\")"
   ]
  }
 ],
 "metadata": {
  "colab": {
   "provenance": []
  },
  "environment": {
   "kernel": "conda-root-py",
   "name": "workbench-notebooks.m109",
   "type": "gcloud",
   "uri": "gcr.io/deeplearning-platform-release/workbench-notebooks:m109"
  },
  "kernelspec": {
   "display_name": "Python 3",
   "language": "python",
   "name": "conda-root-py"
  },
  "language_info": {
   "codemirror_mode": {
    "name": "ipython",
    "version": 3
   },
   "file_extension": ".py",
   "mimetype": "text/x-python",
   "name": "python",
   "nbconvert_exporter": "python",
   "pygments_lexer": "ipython3",
   "version": "3.10.12"
  }
 },
 "nbformat": 4,
 "nbformat_minor": 4
}
