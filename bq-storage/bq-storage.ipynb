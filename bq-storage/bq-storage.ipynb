{
  "cells": [
    {
      "cell_type": "markdown",
      "metadata": {
        "id": "9003470a8d3b"
      },
      "source": [
        "# BQ Physical Storage\n",
        "\n",
        "전체 Table의 Logical / Physical Storage 정보를 가져오고, 압축 효과가 가장 높은 Table들 Sort해서 보여줌"
      ]
    },
    {
      "cell_type": "code",
      "execution_count": null,
      "metadata": {},
      "outputs": [],
      "source": [
        "!pip3 install pandas python-dotenv"
      ]
    },
    {
      "cell_type": "markdown",
      "metadata": {
        "id": "R5Xep4W9lq-Z"
      },
      "source": [
        "### Restart runtime\n",
        "\n",
        "To use the newly installed packages in this Jupyter runtime, you must restart the runtime. You can do this by running the cell below, which restarts the current kernel.\n",
        "\n",
        "The restart might take a minute or longer. After it's restarted, continue to the next step."
      ]
    },
    {
      "cell_type": "code",
      "execution_count": null,
      "metadata": {},
      "outputs": [],
      "source": [
        "from dotenv import load_dotenv\n",
        "import os\n",
        "\n",
        "load_dotenv()"
      ]
    },
    {
      "cell_type": "code",
      "execution_count": 9,
      "metadata": {},
      "outputs": [],
      "source": [
        "PROJECT_ID = os.environ['PROJECT_ID']"
      ]
    },
    {
      "cell_type": "code",
      "execution_count": 12,
      "metadata": {},
      "outputs": [],
      "source": [
        "TOKEN = ! gcloud auth print-access-token"
      ]
    },
    {
      "cell_type": "code",
      "execution_count": 14,
      "metadata": {},
      "outputs": [],
      "source": [
        "import google.auth.transport.requests\n",
        "import requests\n",
        "\n",
        "def get_table(project, dataset, table):\n",
        "    url = f\"https://bigquery.googleapis.com/bigquery/v2/projects/{project}/datasets/{dataset}/tables/{table}\"\n",
        "\n",
        "    try:\n",
        "    \n",
        "        headers = {\"Authorization\": f\"Bearer {TOKEN[0]}\"}\n",
        "        response = requests.get(url, headers=headers)\n",
        "\n",
        "        # Raise an exception for any HTTP error status codes\n",
        "        response.raise_for_status()\n",
        "\n",
        "        # Parse the JSON response\n",
        "        json_output = response.json()\n",
        "        return json_output\n",
        "\n",
        "    except Exception as e:\n",
        "        print(f\"Error making API request: {e}\")\n",
        "        return None"
      ]
    },
    {
      "cell_type": "code",
      "execution_count": null,
      "metadata": {
        "id": "Nqwi-5ufWp_B"
      },
      "outputs": [],
      "source": [
        "from google.cloud import bigquery\n",
        "import pandas as pd\n",
        "\n",
        "def get_bigquery_storage_info(project_id):\n",
        "\n",
        "    df = pd.DataFrame(columns=[\"dataset\", \"table\", \"logical\", \"physical\", \"ratio\"])\n",
        "    df_need_to_check = pd.DataFrame(columns=[\"dataset\", \"table\", \"logical\", \"physical\", \"ratio\"])\n",
        "\n",
        "\n",
        "    client = bigquery.Client(project=project_id)\n",
        "\n",
        "    # Get list of datasets\n",
        "    datasets = list(client.list_datasets())\n",
        "    if not datasets:\n",
        "        print(f\"No datasets found in project {project_id}\")\n",
        "        return\n",
        "\n",
        "    for dataset in datasets:\n",
        "        dataset_id = dataset.dataset_id\n",
        "        #location = dataset.location\n",
        "        print(f\"Dataset: {dataset_id} \")\n",
        "\n",
        "        # Get list of tables in the dataset\n",
        "        tables = list(client.list_tables(dataset_id))\n",
        "        if not tables:\n",
        "            print(f\"  No tables found in dataset {dataset_id}\")\n",
        "            continue\n",
        "\n",
        "        for table in tables:\n",
        "            table_id = table.table_id\n",
        "            table_json = get_table(project_id, dataset_id, table_id)\n",
        "            #print(table_json)\n",
        "\n",
        "            if \"numTotalLogicalBytes\" in table_json:\n",
        "                logical = int(table_json['numTotalLogicalBytes'])\n",
        "            else:\n",
        "                logical = 0\n",
        "\n",
        "            if \"numTotalPhysicalBytes\" in table_json:\n",
        "                physical = int(table_json['numTotalPhysicalBytes'])\n",
        "            else:\n",
        "                physical = 0\n",
        "                     \n",
        "            if physical == 0:\n",
        "                ratio = 0\n",
        "            else:\n",
        "                ratio = logical / physical \n",
        "\n",
        "            #print(f\"{dataset_id} {table_id} {logical}   {physical}  {ratio}\")\n",
        "            if physical > logical:\n",
        "                df_need_to_check = df_need_to_check._append({'dataset': dataset_id, 'table': table_id,'logical':logical ,'physical':physical,'ratio':ratio }, ignore_index=True)     \n",
        "            else:\n",
        "                df = df._append({'dataset': dataset_id, 'table': table_id,'logical':logical ,'physical':physical,'ratio':ratio }, ignore_index=True)\n",
        "    \n",
        "    return df, df_need_to_check\n"
      ]
    },
    {
      "cell_type": "code",
      "execution_count": null,
      "metadata": {},
      "outputs": [],
      "source": [
        "tables, tables_to_check = get_bigquery_storage_info(PROJECT_ID)"
      ]
    },
    {
      "cell_type": "code",
      "execution_count": 17,
      "metadata": {},
      "outputs": [
        {
          "data": {
            "text/html": [
              "<div>\n",
              "<style scoped>\n",
              "    .dataframe tbody tr th:only-of-type {\n",
              "        vertical-align: middle;\n",
              "    }\n",
              "\n",
              "    .dataframe tbody tr th {\n",
              "        vertical-align: top;\n",
              "    }\n",
              "\n",
              "    .dataframe thead th {\n",
              "        text-align: right;\n",
              "    }\n",
              "</style>\n",
              "<table border=\"1\" class=\"dataframe\">\n",
              "  <thead>\n",
              "    <tr style=\"text-align: right;\">\n",
              "      <th></th>\n",
              "      <th>dataset</th>\n",
              "      <th>table</th>\n",
              "      <th>logical</th>\n",
              "      <th>physical</th>\n",
              "      <th>ratio</th>\n",
              "    </tr>\n",
              "  </thead>\n",
              "  <tbody>\n",
              "    <tr>\n",
              "      <th>0</th>\n",
              "      <td>billing_export</td>\n",
              "      <td>gcp_billing_export_resource_v1_01F6D3_EB24B5_C...</td>\n",
              "      <td>41595797</td>\n",
              "      <td>5791390</td>\n",
              "      <td>7.182351</td>\n",
              "    </tr>\n",
              "    <tr>\n",
              "      <th>1</th>\n",
              "      <td>billing_export</td>\n",
              "      <td>gcp_billing_export_v1_01F6D3_EB24B5_C93EEB</td>\n",
              "      <td>1316506873</td>\n",
              "      <td>48367413</td>\n",
              "      <td>27.218881</td>\n",
              "    </tr>\n",
              "    <tr>\n",
              "      <th>2</th>\n",
              "      <td>codelab</td>\n",
              "      <td>cta_ridership</td>\n",
              "      <td>111024</td>\n",
              "      <td>32840</td>\n",
              "      <td>3.380755</td>\n",
              "    </tr>\n",
              "    <tr>\n",
              "      <th>3</th>\n",
              "      <td>dataform</td>\n",
              "      <td>first_view</td>\n",
              "      <td>0</td>\n",
              "      <td>0</td>\n",
              "      <td>0.000000</td>\n",
              "    </tr>\n",
              "    <tr>\n",
              "      <th>4</th>\n",
              "      <td>dataform</td>\n",
              "      <td>quickstart-source</td>\n",
              "      <td>0</td>\n",
              "      <td>0</td>\n",
              "      <td>0.000000</td>\n",
              "    </tr>\n",
              "  </tbody>\n",
              "</table>\n",
              "</div>"
            ],
            "text/plain": [
              "          dataset                                              table  \\\n",
              "0  billing_export  gcp_billing_export_resource_v1_01F6D3_EB24B5_C...   \n",
              "1  billing_export         gcp_billing_export_v1_01F6D3_EB24B5_C93EEB   \n",
              "2         codelab                                      cta_ridership   \n",
              "3        dataform                                         first_view   \n",
              "4        dataform                                  quickstart-source   \n",
              "\n",
              "      logical  physical      ratio  \n",
              "0    41595797   5791390   7.182351  \n",
              "1  1316506873  48367413  27.218881  \n",
              "2      111024     32840   3.380755  \n",
              "3           0         0   0.000000  \n",
              "4           0         0   0.000000  "
            ]
          },
          "metadata": {},
          "output_type": "display_data"
        }
      ],
      "source": [
        "display(tables.head())"
      ]
    },
    {
      "cell_type": "markdown",
      "metadata": {},
      "source": [
        "### Total Logical Storage, Total Physical Storage"
      ]
    },
    {
      "cell_type": "code",
      "execution_count": 18,
      "metadata": {},
      "outputs": [
        {
          "name": "stdout",
          "output_type": "stream",
          "text": [
            "Total Logical : 65.20 GB\n",
            "Total physical : 7.12 GB\n"
          ]
        }
      ],
      "source": [
        "total_logical= tables['logical'].sum()\n",
        "total_physical= tables['physical'].sum()\n",
        "print(f\"Total Logical : {total_logical/1024/1024/1024:.2f} GB\")\n",
        "print(f\"Total physical : {total_physical/1024/1024/1024:.2f} GB\")"
      ]
    },
    {
      "cell_type": "markdown",
      "metadata": {},
      "source": [
        "### 가장 압축율이 좋은 순으로 정렬 "
      ]
    },
    {
      "cell_type": "code",
      "execution_count": 22,
      "metadata": {},
      "outputs": [
        {
          "data": {
            "text/html": [
              "<div>\n",
              "<style scoped>\n",
              "    .dataframe tbody tr th:only-of-type {\n",
              "        vertical-align: middle;\n",
              "    }\n",
              "\n",
              "    .dataframe tbody tr th {\n",
              "        vertical-align: top;\n",
              "    }\n",
              "\n",
              "    .dataframe thead th {\n",
              "        text-align: right;\n",
              "    }\n",
              "</style>\n",
              "<table border=\"1\" class=\"dataframe\">\n",
              "  <thead>\n",
              "    <tr style=\"text-align: right;\">\n",
              "      <th></th>\n",
              "      <th>dataset</th>\n",
              "      <th>table</th>\n",
              "      <th>logical</th>\n",
              "      <th>physical</th>\n",
              "      <th>ratio</th>\n",
              "    </tr>\n",
              "  </thead>\n",
              "  <tbody>\n",
              "    <tr>\n",
              "      <th>49</th>\n",
              "      <td>tsop</td>\n",
              "      <td>tsop_job_logs</td>\n",
              "      <td>23797696</td>\n",
              "      <td>41709</td>\n",
              "      <td>570.565010</td>\n",
              "    </tr>\n",
              "    <tr>\n",
              "      <th>50</th>\n",
              "      <td>tsop</td>\n",
              "      <td>tsop_log_logs_2</td>\n",
              "      <td>23797696</td>\n",
              "      <td>41713</td>\n",
              "      <td>570.510297</td>\n",
              "    </tr>\n",
              "    <tr>\n",
              "      <th>48</th>\n",
              "      <td>tsop</td>\n",
              "      <td>temp_op</td>\n",
              "      <td>2964624</td>\n",
              "      <td>7268</td>\n",
              "      <td>407.900936</td>\n",
              "    </tr>\n",
              "    <tr>\n",
              "      <th>14</th>\n",
              "      <td>ecommerce</td>\n",
              "      <td>traning_data</td>\n",
              "      <td>52591396</td>\n",
              "      <td>978024</td>\n",
              "      <td>53.773114</td>\n",
              "    </tr>\n",
              "    <tr>\n",
              "      <th>13</th>\n",
              "      <td>ecommerce</td>\n",
              "      <td>train-data</td>\n",
              "      <td>52591396</td>\n",
              "      <td>978623</td>\n",
              "      <td>53.740200</td>\n",
              "    </tr>\n",
              "  </tbody>\n",
              "</table>\n",
              "</div>"
            ],
            "text/plain": [
              "      dataset            table   logical physical       ratio\n",
              "49       tsop    tsop_job_logs  23797696    41709  570.565010\n",
              "50       tsop  tsop_log_logs_2  23797696    41713  570.510297\n",
              "48       tsop          temp_op   2964624     7268  407.900936\n",
              "14  ecommerce     traning_data  52591396   978024   53.773114\n",
              "13  ecommerce       train-data  52591396   978623   53.740200"
            ]
          },
          "metadata": {},
          "output_type": "display_data"
        }
      ],
      "source": [
        "table_sorted = tables.sort_values(by='ratio', ascending=False)\n",
        "display(table_sorted.head(5))"
      ]
    },
    {
      "cell_type": "markdown",
      "metadata": {},
      "source": [
        "### Physical Storage 용량이 Logical Storage 보다 큰 Table List"
      ]
    },
    {
      "cell_type": "code",
      "execution_count": 24,
      "metadata": {},
      "outputs": [
        {
          "data": {
            "text/html": [
              "<div>\n",
              "<style scoped>\n",
              "    .dataframe tbody tr th:only-of-type {\n",
              "        vertical-align: middle;\n",
              "    }\n",
              "\n",
              "    .dataframe tbody tr th {\n",
              "        vertical-align: top;\n",
              "    }\n",
              "\n",
              "    .dataframe thead th {\n",
              "        text-align: right;\n",
              "    }\n",
              "</style>\n",
              "<table border=\"1\" class=\"dataframe\">\n",
              "  <thead>\n",
              "    <tr style=\"text-align: right;\">\n",
              "      <th></th>\n",
              "      <th>dataset</th>\n",
              "      <th>table</th>\n",
              "      <th>logical</th>\n",
              "      <th>physical</th>\n",
              "      <th>ratio</th>\n",
              "    </tr>\n",
              "  </thead>\n",
              "  <tbody>\n",
              "    <tr>\n",
              "      <th>0</th>\n",
              "      <td>dataform</td>\n",
              "      <td>quickstart-table</td>\n",
              "      <td>65</td>\n",
              "      <td>1194</td>\n",
              "      <td>0.054439</td>\n",
              "    </tr>\n",
              "    <tr>\n",
              "      <th>1</th>\n",
              "      <td>datastream</td>\n",
              "      <td>employees_departments</td>\n",
              "      <td>585</td>\n",
              "      <td>2919</td>\n",
              "      <td>0.200411</td>\n",
              "    </tr>\n",
              "    <tr>\n",
              "      <th>2</th>\n",
              "      <td>datastream</td>\n",
              "      <td>employees_dept_manager</td>\n",
              "      <td>1824</td>\n",
              "      <td>3463</td>\n",
              "      <td>0.526711</td>\n",
              "    </tr>\n",
              "    <tr>\n",
              "      <th>3</th>\n",
              "      <td>demo_demandforecasting</td>\n",
              "      <td>README</td>\n",
              "      <td>318</td>\n",
              "      <td>1544</td>\n",
              "      <td>0.205959</td>\n",
              "    </tr>\n",
              "  </tbody>\n",
              "</table>\n",
              "</div>"
            ],
            "text/plain": [
              "                  dataset                   table logical physical     ratio\n",
              "0                dataform        quickstart-table      65     1194  0.054439\n",
              "1              datastream   employees_departments     585     2919  0.200411\n",
              "2              datastream  employees_dept_manager    1824     3463  0.526711\n",
              "3  demo_demandforecasting                  README     318     1544  0.205959"
            ]
          },
          "metadata": {},
          "output_type": "display_data"
        }
      ],
      "source": [
        "display(tables_to_check.head(4))"
      ]
    }
  ],
  "metadata": {
    "colab": {
      "name": "imagen3_editing.ipynb",
      "provenance": [],
      "toc_visible": true
    },
    "kernelspec": {
      "display_name": "Python 3",
      "name": "python3"
    },
    "language_info": {
      "codemirror_mode": {
        "name": "ipython",
        "version": 3
      },
      "file_extension": ".py",
      "mimetype": "text/x-python",
      "name": "python",
      "nbconvert_exporter": "python",
      "pygments_lexer": "ipython3",
      "version": "3.9.6"
    }
  },
  "nbformat": 4,
  "nbformat_minor": 0
}
